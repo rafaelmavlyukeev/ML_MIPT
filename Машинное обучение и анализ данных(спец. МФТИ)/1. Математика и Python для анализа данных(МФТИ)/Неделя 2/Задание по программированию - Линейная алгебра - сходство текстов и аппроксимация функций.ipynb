{
 "cells": [
  {
   "cell_type": "code",
   "execution_count": 57,
   "metadata": {},
   "outputs": [],
   "source": [
    "import numpy as np\n",
    "import re\n",
    "import scipy.spatial\n",
    "import pandas as pd"
   ]
  },
  {
   "cell_type": "code",
   "execution_count": 6,
   "metadata": {},
   "outputs": [],
   "source": [
    "f=open('sentences.txt')\n",
    "lines = f.readlines()"
   ]
  },
  {
   "cell_type": "code",
   "execution_count": 27,
   "metadata": {},
   "outputs": [],
   "source": [
    "text = list()\n",
    "for line in lines:\n",
    "     text.append(re.findall('[a-z]+', line.strip().lower()))"
   ]
  },
  {
   "cell_type": "code",
   "execution_count": 30,
   "metadata": {},
   "outputs": [],
   "source": [
    "words_dict = dict()\n",
    "i = 0\n",
    "for line in text:\n",
    "    for word in line:\n",
    "        if words_dict.get(word,0) == 0:\n",
    "            words_dict[word] = i\n",
    "            i += 1            "
   ]
  },
  {
   "cell_type": "code",
   "execution_count": 32,
   "metadata": {},
   "outputs": [],
   "source": [
    "n = len(lines)\n",
    "d = len(words_dict)"
   ]
  },
  {
   "cell_type": "code",
   "execution_count": 34,
   "metadata": {},
   "outputs": [
    {
     "data": {
      "text/plain": [
       "(22, 254)"
      ]
     },
     "execution_count": 34,
     "metadata": {},
     "output_type": "execute_result"
    }
   ],
   "source": [
    "n, d"
   ]
  },
  {
   "cell_type": "code",
   "execution_count": 41,
   "metadata": {},
   "outputs": [
    {
     "data": {
      "text/plain": [
       "(22, 255)"
      ]
     },
     "execution_count": 41,
     "metadata": {},
     "output_type": "execute_result"
    }
   ],
   "source": [
    "M = np.zeros([n,d+1])\n",
    "M.shape"
   ]
  },
  {
   "cell_type": "code",
   "execution_count": 42,
   "metadata": {},
   "outputs": [],
   "source": [
    "for k in range(n):\n",
    "    for word in text[k]:\n",
    "        M[k, words_dict.get(word,0)]+=1"
   ]
  },
  {
   "cell_type": "code",
   "execution_count": 43,
   "metadata": {},
   "outputs": [
    {
     "data": {
      "text/plain": [
       "array([[0., 1., 1., ..., 0., 0., 0.],\n",
       "       [0., 0., 1., ..., 0., 0., 0.],\n",
       "       [0., 0., 2., ..., 0., 0., 0.],\n",
       "       ...,\n",
       "       [0., 0., 0., ..., 0., 0., 0.],\n",
       "       [0., 0., 1., ..., 0., 0., 0.],\n",
       "       [0., 0., 1., ..., 1., 1., 1.]])"
      ]
     },
     "execution_count": 43,
     "metadata": {},
     "output_type": "execute_result"
    }
   ],
   "source": [
    "M"
   ]
  },
  {
   "cell_type": "code",
   "execution_count": 47,
   "metadata": {},
   "outputs": [],
   "source": [
    "dist_dict = dict()\n",
    "for k in range(1,n):\n",
    "    dist_dict[k] = scipy.spatial.distance.cosine(M[0],M[k])"
   ]
  },
  {
   "cell_type": "code",
   "execution_count": 62,
   "metadata": {},
   "outputs": [
    {
     "data": {
      "text/plain": [
       "{1: 0.9527544408738466,\n",
       " 2: 0.8644738145642124,\n",
       " 3: 0.8951715163278082,\n",
       " 4: 0.7770887149698589,\n",
       " 5: 0.9402385695332803,\n",
       " 6: 0.7327387580875757,\n",
       " 7: 0.9258750683338899,\n",
       " 8: 0.8842724875284311,\n",
       " 9: 0.9055088817476932,\n",
       " 10: 0.8328165362273942,\n",
       " 11: 0.8804771390665607,\n",
       " 12: 0.8396432548525454,\n",
       " 13: 0.8703592552895671,\n",
       " 14: 0.8740118423302576,\n",
       " 15: 0.9442721787424647,\n",
       " 16: 0.8406361854220809,\n",
       " 17: 0.956644501523794,\n",
       " 18: 0.9442721787424647,\n",
       " 19: 0.8885443574849294,\n",
       " 20: 0.8427572744917122,\n",
       " 21: 0.8250364469440588}"
      ]
     },
     "execution_count": 62,
     "metadata": {},
     "output_type": "execute_result"
    }
   ],
   "source": [
    "dist_dict"
   ]
  },
  {
   "cell_type": "code",
   "execution_count": 63,
   "metadata": {},
   "outputs": [],
   "source": [
    "data = pd.Series(dist_dict, name = 'cos_dist')"
   ]
  },
  {
   "cell_type": "code",
   "execution_count": 66,
   "metadata": {},
   "outputs": [
    {
     "data": {
      "text/plain": [
       "17    0.956645\n",
       "1     0.952754\n",
       "18    0.944272\n",
       "15    0.944272\n",
       "5     0.940239\n",
       "7     0.925875\n",
       "9     0.905509\n",
       "3     0.895172\n",
       "19    0.888544\n",
       "8     0.884272\n",
       "11    0.880477\n",
       "14    0.874012\n",
       "13    0.870359\n",
       "2     0.864474\n",
       "20    0.842757\n",
       "16    0.840636\n",
       "12    0.839643\n",
       "10    0.832817\n",
       "21    0.825036\n",
       "4     0.777089\n",
       "6     0.732739\n",
       "Name: cos_dist, dtype: float64"
      ]
     },
     "execution_count": 66,
     "metadata": {},
     "output_type": "execute_result"
    }
   ],
   "source": [
    "data.sort_values(ascending=False)"
   ]
  }
 ],
 "metadata": {
  "kernelspec": {
   "display_name": "Python 3",
   "language": "python",
   "name": "python3"
  },
  "language_info": {
   "codemirror_mode": {
    "name": "ipython",
    "version": 3
   },
   "file_extension": ".py",
   "mimetype": "text/x-python",
   "name": "python",
   "nbconvert_exporter": "python",
   "pygments_lexer": "ipython3",
   "version": "3.7.3"
  }
 },
 "nbformat": 4,
 "nbformat_minor": 2
}
